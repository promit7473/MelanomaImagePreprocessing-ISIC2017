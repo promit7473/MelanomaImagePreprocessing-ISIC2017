{
 "cells": [
  {
   "metadata": {},
   "cell_type": "markdown",
   "source": "**<h2>Importing necessary libraries</h2>** \n",
   "id": "dc0b27a768266244"
  },
  {
   "metadata": {
    "ExecuteTime": {
     "end_time": "2024-11-04T14:50:56.323279Z",
     "start_time": "2024-11-04T14:50:56.320781Z"
    }
   },
   "cell_type": "code",
   "source": [
    "import os\n",
    "import cv2\n",
    "import numpy as np\n",
    "import matplotlib.pyplot as plt\n",
    "import torchvision.transforms as transforms\n",
    "from torch.utils.data import Dataset, DataLoader\n",
    "from PIL import Image\n",
    "import torch\n"
   ],
   "id": "5d02acf049cc3ab4",
   "outputs": [],
   "execution_count": 15
  },
  {
   "metadata": {},
   "cell_type": "markdown",
   "source": "**<h2>Defining directories</h2>**",
   "id": "9cc8577b4fec5a3a"
  },
  {
   "metadata": {
    "ExecuteTime": {
     "end_time": "2024-11-04T14:50:56.370079Z",
     "start_time": "2024-11-04T14:50:56.366174Z"
    }
   },
   "cell_type": "code",
   "source": [
    "# Define data directories\n",
    "image_dir = '/home/mhpromit7473/Documents/ISIC_Dataset/images'\n",
    "superpixel_dir = '/home/mhpromit7473/Documents/ISIC_Dataset/superpixels'\n",
    "cleaned_images_dir = '/home/mhpromit7473/Documents/ISIC_Dataset/cleaned_images'\n",
    "augmented_images_dir = '/home/mhpromit7473/Documents/ISIC_Dataset/augmented_images'\n",
    "masks_dir = '/home/mhpromit7473/Documents/ISIC_Dataset/masks'\n",
    "\n",
    "# Create directories if they don't exist\n",
    "os.makedirs(cleaned_images_dir, exist_ok=True)\n",
    "os.makedirs(augmented_images_dir, exist_ok=True)\n",
    "os.makedirs(masks_dir, exist_ok=True)"
   ],
   "id": "1e869ff931e4384f",
   "outputs": [],
   "execution_count": 16
  },
  {
   "metadata": {},
   "cell_type": "markdown",
   "source": "**<h2>Transformation and Augmentation</h2>**",
   "id": "89c01db9c118e44e"
  },
  {
   "metadata": {
    "ExecuteTime": {
     "end_time": "2024-11-04T14:50:56.419422Z",
     "start_time": "2024-11-04T14:50:56.415238Z"
    }
   },
   "cell_type": "code",
   "source": [
    "# Define transformations\n",
    "transform = transforms.Compose([\n",
    "    transforms.Resize((256, 256)),\n",
    "    transforms.ToTensor(),\n",
    "    transforms.Normalize(mean=[0.5, 0.5, 0.5], std=[0.5, 0.5, 0.5])\n",
    "])\n",
    "\n",
    "# Data augmentation transformations\n",
    "aug_transform = transforms.Compose([\n",
    "    transforms.RandomRotation(degrees=30),\n",
    "    transforms.RandomHorizontalFlip(),\n",
    "    transforms.RandomVerticalFlip(),\n",
    "    transforms.ColorJitter(brightness=0.2, contrast=0.2, saturation=0.2, hue=0.2),\n",
    "    transforms.Resize((256, 256)),\n",
    "    transforms.ToTensor(),\n",
    "    transforms.Normalize(mean=[0.5, 0.5, 0.5], std=[0.5, 0.5, 0.5])\n",
    "])"
   ],
   "id": "8a130f894ebaf7fc",
   "outputs": [],
   "execution_count": 17
  },
  {
   "metadata": {},
   "cell_type": "markdown",
   "source": [
    "**<h2>Custom Dataset Class:</h2>**\n",
    "**<h4>Create a custom dataset class to handle loading images and superpixel images</h4>**"
   ],
   "id": "78a1cb84850e5971"
  },
  {
   "metadata": {
    "ExecuteTime": {
     "end_time": "2024-11-04T14:50:56.472204Z",
     "start_time": "2024-11-04T14:50:56.463748Z"
    }
   },
   "cell_type": "code",
   "source": [
    "\n",
    "# Custom dataset class\n",
    "class SkinLesionDataset(Dataset):\n",
    "    def __init__(self, image_dir, superpixel_dir=None, transform=None, augment=False):\n",
    "        self.image_dir = image_dir\n",
    "        self.superpixel_dir = superpixel_dir\n",
    "        self.transform = transform\n",
    "        self.augment = augment\n",
    "        self.images = os.listdir(image_dir)\n",
    "\n",
    "    def __len__(self):\n",
    "        return len(self.images)\n",
    "\n",
    "    def __getitem__(self, idx):\n",
    "        image_path = os.path.join(self.image_dir, self.images[idx])\n",
    "        image = Image.open(image_path).convert(\"RGB\")\n",
    "\n",
    "        # Load superpixel image if available\n",
    "        superpixel = None\n",
    "        if self.superpixel_dir:\n",
    "            superpixel_path = os.path.join(self.superpixel_dir, self.images[idx].replace('.jpg', '_superpixels.png'))\n",
    "            if os.path.exists(superpixel_path):\n",
    "                superpixel = Image.open(superpixel_path).convert(\"RGB\")\n",
    "\n",
    "        # Apply transformations\n",
    "        if self.transform:\n",
    "            image = self.transform(image)\n",
    "            if superpixel is not None:\n",
    "                superpixel = self.transform(superpixel)\n",
    "\n",
    "        # Apply data augmentation if requested\n",
    "        if self.augment:\n",
    "            image = aug_transform(image)\n",
    "            if superpixel is not None:\n",
    "                superpixel = aug_transform(superpixel)\n",
    "\n",
    "        return (image, superpixel) if superpixel is not None else image\n"
   ],
   "id": "86db14f5c0392837",
   "outputs": [],
   "execution_count": 18
  },
  {
   "metadata": {},
   "cell_type": "markdown",
   "source": "**<h2>data loaders</h2>**",
   "id": "d0a581cc87f87fe5"
  },
  {
   "metadata": {
    "ExecuteTime": {
     "end_time": "2024-11-04T14:50:56.527929Z",
     "start_time": "2024-11-04T14:50:56.518150Z"
    }
   },
   "cell_type": "code",
   "source": [
    "# Create the datasets and dataloaders\n",
    "dataset = SkinLesionDataset(image_dir=image_dir, superpixel_dir=superpixel_dir, transform=transform)\n",
    "augmented_dataset = SkinLesionDataset(image_dir=image_dir, superpixel_dir=superpixel_dir, transform=transform, augment=True)\n",
    "\n",
    "dataloader = DataLoader(dataset, batch_size=16, shuffle=True)\n",
    "augmented_dataloader = DataLoader(augmented_dataset, batch_size=16, shuffle=True)"
   ],
   "id": "e7e7161ee6de95f8",
   "outputs": [],
   "execution_count": 19
  },
  {
   "metadata": {},
   "cell_type": "markdown",
   "source": "**<h2>Image Preprocessing</h2>**",
   "id": "7118954959c9074c"
  },
  {
   "metadata": {
    "ExecuteTime": {
     "end_time": "2024-11-04T15:25:26.195604Z",
     "start_time": "2024-11-04T15:18:32.130266Z"
    }
   },
   "cell_type": "code",
   "source": [
    "# Apply DullRazor algorithm and save cleaned images\n",
    "for i, (images, superpixels) in enumerate(dataloader):\n",
    "    # Convert tensor to NumPy array\n",
    "    image_np = images.permute(0, 2, 3, 1).numpy()\n",
    "\n",
    "    # Rescale and convert to uint8\n",
    "    image_np = ((image_np + 1) * 127.5).astype(np.uint8)\n",
    "\n",
    "    # Convert to BGR for OpenCV processing\n",
    "    image_bgr = [cv2.cvtColor(img, cv2.COLOR_RGB2BGR) for img in image_np]\n",
    "\n",
    "    # Apply DullRazor algorithm\n",
    "    for j, img in enumerate(image_bgr):\n",
    "        grayScale = cv2.cvtColor(img, cv2.COLOR_BGR2GRAY)\n",
    "        kernel = cv2.getStructuringElement(cv2.MORPH_RECT, (9, 9))\n",
    "        blackhat = cv2.morphologyEx(grayScale, cv2.MORPH_BLACKHAT, kernel)\n",
    "        bhg = cv2.GaussianBlur(blackhat, (3, 3), cv2.BORDER_DEFAULT)\n",
    "        ret, mask = cv2.threshold(bhg, 15, 255, cv2.THRESH_BINARY)\n",
    "        dst = cv2.inpaint(img, mask, 3, cv2.INPAINT_TELEA)\n",
    "        cleaned_image = cv2.cvtColor(dst, cv2.COLOR_BGR2RGB)\n",
    "        cv2.imwrite(os.path.join(cleaned_images_dir, f'cleaned_image_{i*16+j}.png'), cleaned_image)"
   ],
   "id": "bd092febaad14a",
   "outputs": [],
   "execution_count": 27
  },
  {
   "metadata": {},
   "cell_type": "markdown",
   "source": "**<h3 style=\"color:#2F4F4F;\">Save augmented images</h3>**",
   "id": "aa33215281145bca"
  },
  {
   "metadata": {
    "ExecuteTime": {
     "end_time": "2024-11-04T15:17:32.056084Z",
     "start_time": "2024-11-04T15:17:14.427364Z"
    }
   },
   "cell_type": "code",
   "source": [
    "# Save augmented images\n",
    "for filename in os.listdir(cleaned_images_dir):\n",
    "    cleaned_image_path = os.path.join(cleaned_images_dir, filename)\n",
    "    cleaned_image = Image.open(cleaned_image_path).convert(\"RGB\")\n",
    "    augmented_image = aug_transform(cleaned_image)\n",
    "    \n",
    "    # Convert tensor to NumPy array and save\n",
    "    augmented_image_np = augmented_image.permute(1, 2, 0).byte().numpy()\n",
    "    augmented_image_pil = Image.fromarray(augmented_image_np)\n",
    "    augmented_image_pil.save(os.path.join(augmented_images_dir, filename))\n"
   ],
   "id": "4137ce60b3b62677",
   "outputs": [],
   "execution_count": 24
  },
  {
   "metadata": {
    "ExecuteTime": {
     "end_time": "2024-11-04T15:25:36.590671Z",
     "start_time": "2024-11-04T15:25:36.586454Z"
    }
   },
   "cell_type": "code",
   "source": [
    "# Function to create masks\n",
    "def create_masks(image_dir, output_dir):\n",
    "    for filename in os.listdir(image_dir):\n",
    "        image_path = os.path.join(image_dir, filename)\n",
    "        image = cv2.imread(image_path, cv2.IMREAD_GRAYSCALE)\n",
    "        \n",
    "        # Apply thresholding to create a binary mask\n",
    "        ret, mask = cv2.threshold(image, 0, 255, cv2.THRESH_BINARY + cv2.THRESH_OTSU)\n",
    "        \n",
    "        # Save the mask\n",
    "        mask_path = os.path.join(output_dir, filename.replace('.png', '_mask.png'))\n",
    "        cv2.imwrite(mask_path, mask)"
   ],
   "id": "8c8c587839467dc2",
   "outputs": [],
   "execution_count": 28
  },
  {
   "metadata": {
    "ExecuteTime": {
     "end_time": "2024-11-04T15:26:27.296302Z",
     "start_time": "2024-11-04T15:26:23.815342Z"
    }
   },
   "cell_type": "code",
   "source": [
    "# Create masks for cleaned images\n",
    "create_masks(cleaned_images_dir, masks_dir)\n",
    "\n",
    "# Create masks for augmented images\n",
    "# create_masks(augmented_images_dir, masks_dir)"
   ],
   "id": "7cda305bc3ea8174",
   "outputs": [],
   "execution_count": 30
  },
  {
   "metadata": {},
   "cell_type": "code",
   "outputs": [],
   "execution_count": null,
   "source": "",
   "id": "2b7d1617449cc3ac"
  }
 ],
 "metadata": {
  "kernelspec": {
   "display_name": "Python 3",
   "language": "python",
   "name": "python3"
  },
  "language_info": {
   "codemirror_mode": {
    "name": "ipython",
    "version": 2
   },
   "file_extension": ".py",
   "mimetype": "text/x-python",
   "name": "python",
   "nbconvert_exporter": "python",
   "pygments_lexer": "ipython2",
   "version": "2.7.6"
  }
 },
 "nbformat": 4,
 "nbformat_minor": 5
}
