{
 "cells": [
  {
   "metadata": {},
   "cell_type": "markdown",
   "source": [
    "<h3 style=\"color:#2F4F4F;\">DullRazor Algorithm</h3>\n",
    "\n",
    "<p style=\"color:#696969;\"><strong>Removing Hair from Sample Images</strong></p>\n",
    "\n",
    "<p>The <strong>DullRazor</strong> algorithm is used to effectively remove hair from melanoma images, ensuring that skin lesions are more visible and easier to analyze.</p>\n",
    "\n"
   ],
   "id": "43d7e76d62674cd4"
  },
  {
   "metadata": {
    "ExecuteTime": {
     "end_time": "2024-10-22T18:35:25.786895Z",
     "start_time": "2024-10-22T18:35:25.764812Z"
    }
   },
   "cell_type": "code",
   "source": [
    "import cv2\n",
    "import matplotlib.pyplot as plt\n",
    "\n",
    "# ------------------------- IMAGE ACQUISITION -------------------------\n",
    "\n",
    "# Input image path\n",
    "path = 'images/practice_images/ISIC_0000191.jpg'\n",
    "\n",
    "# Read the input image in color\n",
    "image = cv2.imread(path, cv2.IMREAD_COLOR)\n",
    "\n",
    "# Convert the image from BGR to RGB for displaying with matplotlib\n",
    "image_rgb = cv2.cvtColor(image, cv2.COLOR_BGR2RGB)\n",
    "\n",
    "# Crop the image (row range: 30 to 410, column range: 30 to 560)\n",
    "img = image[30:410, 30:560]\n",
    "img_rgb = cv2.cvtColor(img, cv2.COLOR_BGR2RGB)  # Convert for proper display in matplotlib\n",
    "\n",
    "# ----------------------- DULL RAZOR (REMOVE HAIR) -----------------------\n",
    "\n",
    "# Convert the cropped image to grayscale\n",
    "grayScale = cv2.cvtColor(img, cv2.COLOR_RGB2GRAY)\n",
    "\n",
    "# Apply the Black Hat filter to extract hair features\n",
    "kernel = cv2.getStructuringElement(cv2.MORPH_RECT, (9,9))  # 9x9 rectangular kernel\n",
    "blackhat = cv2.morphologyEx(grayScale, cv2.MORPH_BLACKHAT, kernel)\n",
    "\n",
    "# Apply a Gaussian filter to smooth the blackhat image\n",
    "bhg = cv2.GaussianBlur(blackhat, (3,3), cv2.BORDER_DEFAULT)\n",
    "\n",
    "# Perform binary thresholding to create a mask\n",
    "ret, mask = cv2.threshold(bhg, 10, 255, cv2.THRESH_BINARY)\n",
    "\n",
    "# Inpaint the original image using the mask to remove hair\n",
    "dst = cv2.inpaint(img, mask, 6, cv2.INPAINT_TELEA)\n",
    "\n",
    "# ------------------------ DISPLAY IMAGES ------------------------\n",
    "\n",
    "# Set up the subplots to display multiple images\n",
    "fig, axs = plt.subplots(2, 3, figsize=(15, 10))\n",
    "\n",
    "# Display the original image\n",
    "axs[0, 0].imshow(image_rgb)\n",
    "axs[0, 0].set_title('Original Image')\n",
    "axs[0, 0].axis('off')\n",
    "\n",
    "# Display the cropped image\n",
    "axs[0, 1].imshow(img_rgb)\n",
    "axs[0, 1].set_title('Cropped Image')\n",
    "axs[0, 1].axis('off')\n",
    "\n",
    "# Display the grayscale image\n",
    "axs[0, 2].imshow(grayScale, cmap='gray')\n",
    "axs[0, 2].set_title('Grayscale Image')\n",
    "axs[0, 2].axis('off')\n",
    "\n",
    "# Display the blackhat filtered image\n",
    "axs[1, 0].imshow(blackhat, cmap='gray')\n",
    "axs[1, 0].set_title('Blackhat Image')\n",
    "axs[1, 0].axis('off')\n",
    "\n",
    "# Display the binary mask\n",
    "axs[1, 1].imshow(mask, cmap='gray')\n",
    "axs[1, 1].set_title('Binary Mask')\n",
    "axs[1, 1].axis('off')\n",
    "\n",
    "# Display the inpainted (cleaned) image\n",
    "axs[1, 2].imshow(cv2.cvtColor(dst, cv2.COLOR_BGR2RGB))\n",
    "axs[1, 2].set_title('Cleaned Image')\n",
    "axs[1, 2].axis('off')\n",
    "\n",
    "# Show the plot\n",
    "plt.tight_layout()\n",
    "plt.show()"
   ],
   "id": "fbc121e30a2defb3",
   "outputs": [
    {
     "ename": "ModuleNotFoundError",
     "evalue": "No module named 'cv2'",
     "output_type": "error",
     "traceback": [
      "\u001B[0;31m---------------------------------------------------------------------------\u001B[0m",
      "\u001B[0;31mModuleNotFoundError\u001B[0m                       Traceback (most recent call last)",
      "Cell \u001B[0;32mIn[6], line 1\u001B[0m\n\u001B[0;32m----> 1\u001B[0m \u001B[38;5;28;01mimport\u001B[39;00m \u001B[38;5;21;01mcv2\u001B[39;00m\n\u001B[1;32m      2\u001B[0m \u001B[38;5;28;01mimport\u001B[39;00m \u001B[38;5;21;01mmatplotlib\u001B[39;00m\u001B[38;5;21;01m.\u001B[39;00m\u001B[38;5;21;01mpyplot\u001B[39;00m \u001B[38;5;28;01mas\u001B[39;00m \u001B[38;5;21;01mplt\u001B[39;00m\n\u001B[1;32m      4\u001B[0m \u001B[38;5;66;03m# ------------------------- IMAGE ACQUISITION -------------------------\u001B[39;00m\n\u001B[1;32m      5\u001B[0m \n\u001B[1;32m      6\u001B[0m \u001B[38;5;66;03m# Input image path\u001B[39;00m\n",
      "\u001B[0;31mModuleNotFoundError\u001B[0m: No module named 'cv2'"
     ]
    }
   ],
   "execution_count": 6
  },
  {
   "metadata": {
    "ExecuteTime": {
     "end_time": "2024-10-22T18:35:37.703679Z",
     "start_time": "2024-10-22T18:35:37.695530Z"
    }
   },
   "cell_type": "code",
   "source": [
    "import cv2\n",
    "print(cv2.__version__)\n"
   ],
   "id": "bc594db35958e35c",
   "outputs": [
    {
     "ename": "ModuleNotFoundError",
     "evalue": "No module named 'cv2'",
     "output_type": "error",
     "traceback": [
      "\u001B[0;31m---------------------------------------------------------------------------\u001B[0m",
      "\u001B[0;31mModuleNotFoundError\u001B[0m                       Traceback (most recent call last)",
      "Cell \u001B[0;32mIn[7], line 1\u001B[0m\n\u001B[0;32m----> 1\u001B[0m \u001B[38;5;28;01mimport\u001B[39;00m \u001B[38;5;21;01mcv2\u001B[39;00m\n\u001B[1;32m      2\u001B[0m \u001B[38;5;28mprint\u001B[39m(cv2\u001B[38;5;241m.\u001B[39m__version__)\n",
      "\u001B[0;31mModuleNotFoundError\u001B[0m: No module named 'cv2'"
     ]
    }
   ],
   "execution_count": 7
  },
  {
   "metadata": {
    "ExecuteTime": {
     "end_time": "2024-10-22T18:37:24.067122Z",
     "start_time": "2024-10-22T18:37:24.063941Z"
    }
   },
   "cell_type": "code",
   "source": [
    "import sys\n",
    "print(sys.executable)\n"
   ],
   "id": "940ca984557de412",
   "outputs": [
    {
     "name": "stdout",
     "output_type": "stream",
     "text": [
      "/home/mhpromit7473/miniconda3/bin/python\n"
     ]
    }
   ],
   "execution_count": 8
  }
 ],
 "metadata": {
  "kernelspec": {
   "display_name": "Python 3",
   "language": "python",
   "name": "python3"
  },
  "language_info": {
   "codemirror_mode": {
    "name": "ipython",
    "version": 2
   },
   "file_extension": ".py",
   "mimetype": "text/x-python",
   "name": "python",
   "nbconvert_exporter": "python",
   "pygments_lexer": "ipython2",
   "version": "2.7.6"
  }
 },
 "nbformat": 4,
 "nbformat_minor": 5
}
